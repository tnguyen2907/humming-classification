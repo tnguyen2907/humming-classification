{
 "cells": [
  {
   "cell_type": "code",
   "execution_count": 1,
   "metadata": {},
   "outputs": [],
   "source": [
    "import matplotlib.pyplot as plt\n",
    "import numpy as np\n",
    "from sklearn.model_selection import train_test_split\n",
    "from sklearn.preprocessing import LabelEncoder\n",
    "import tensorflow as tf\n",
    "from tensorflow.keras.utils import to_categorical\n",
    "from tensorflow.keras.models import Sequential\n",
    "from tensorflow.keras.layers import LSTM, Dense, Dropout"
   ]
  },
  {
   "cell_type": "code",
   "execution_count": 2,
   "metadata": {},
   "outputs": [],
   "source": [
    "songs = ['Frozen', 'Hakuna', 'Potter', 'Mamma', 'Panther', 'Rain', 'Showman', 'StarWars']"
   ]
  },
  {
   "cell_type": "markdown",
   "metadata": {},
   "source": [
    "### Load and prepare the data for training"
   ]
  },
  {
   "cell_type": "code",
   "execution_count": 3,
   "metadata": {},
   "outputs": [
    {
     "name": "stdout",
     "output_type": "stream",
     "text": [
      "(3848, 603, 128)\n",
      "(3848, 8)\n"
     ]
    }
   ],
   "source": [
    "def load_data():\n",
    "    X = np.load('mfcc_data.npy')\n",
    "    y = np.load('labels.npy')\n",
    "\n",
    "    return X, y\n",
    "\n",
    "X, y = load_data() \n",
    "\n",
    "X = np.transpose(X, (0, 2, 1))\n",
    "\n",
    "y_encoded = LabelEncoder().fit_transform(y)\n",
    "y_onehot = to_categorical(y_encoded)\n",
    "\n",
    "X_train, X_test, y_train, y_test = train_test_split(X, y_onehot, test_size=0.2, random_state=69)\n",
    "\n",
    "print(X_train.shape)\n",
    "print(y_train.shape)"
   ]
  },
  {
   "cell_type": "markdown",
   "metadata": {},
   "source": [
    "### Model: Simple RNN with LSTM"
   ]
  },
  {
   "cell_type": "code",
   "execution_count": 4,
   "metadata": {},
   "outputs": [
    {
     "name": "stdout",
     "output_type": "stream",
     "text": [
      "Model: \"sequential\"\n",
      "_________________________________________________________________\n",
      " Layer (type)                Output Shape              Param #   \n",
      "=================================================================\n",
      " lstm (LSTM)                 (None, 603, 512)          1312768   \n",
      "                                                                 \n",
      " lstm_1 (LSTM)               (None, 512)               2099200   \n",
      "                                                                 \n",
      " dense (Dense)               (None, 256)               131328    \n",
      "                                                                 \n",
      " dropout (Dropout)           (None, 256)               0         \n",
      "                                                                 \n",
      " dense_1 (Dense)             (None, 8)                 2056      \n",
      "                                                                 \n",
      "=================================================================\n",
      "Total params: 3,545,352\n",
      "Trainable params: 3,545,352\n",
      "Non-trainable params: 0\n",
      "_________________________________________________________________\n"
     ]
    }
   ],
   "source": [
    "model = Sequential([\n",
    "    LSTM(512, input_shape=(X.shape[1], X.shape[2]), return_sequences=True),\n",
    "    LSTM(512),\n",
    "    Dense(256, activation='relu'),\n",
    "    Dropout(0.5),\n",
    "    Dense(8, activation='softmax')\n",
    "])\n",
    "\n",
    "model.compile(optimizer='adam', loss='categorical_crossentropy', metrics=['accuracy'])\n",
    "model.summary()"
   ]
  },
  {
   "cell_type": "markdown",
   "metadata": {},
   "source": [
    "### Training"
   ]
  },
  {
   "cell_type": "code",
   "execution_count": 5,
   "metadata": {},
   "outputs": [
    {
     "name": "stdout",
     "output_type": "stream",
     "text": [
      "Epoch 1/50\n",
      "97/97 [==============================] - 32s 268ms/step - loss: 2.0908 - accuracy: 0.1530 - val_loss: 2.0269 - val_accuracy: 0.1818\n",
      "Epoch 2/50\n",
      "97/97 [==============================] - 26s 270ms/step - loss: 2.0135 - accuracy: 0.2135 - val_loss: 1.9744 - val_accuracy: 0.2506\n",
      "Epoch 3/50\n",
      "97/97 [==============================] - 26s 268ms/step - loss: 1.9476 - accuracy: 0.2570 - val_loss: 1.9400 - val_accuracy: 0.2701\n",
      "Epoch 4/50\n",
      "97/97 [==============================] - 27s 274ms/step - loss: 1.8852 - accuracy: 0.2924 - val_loss: 1.8163 - val_accuracy: 0.3247\n",
      "Epoch 5/50\n",
      "97/97 [==============================] - 26s 270ms/step - loss: 1.7805 - accuracy: 0.3437 - val_loss: 1.7908 - val_accuracy: 0.3429\n",
      "Epoch 6/50\n",
      "97/97 [==============================] - 26s 268ms/step - loss: 1.7134 - accuracy: 0.3889 - val_loss: 1.7781 - val_accuracy: 0.3442\n",
      "Epoch 7/50\n",
      "97/97 [==============================] - 26s 271ms/step - loss: 1.6522 - accuracy: 0.4211 - val_loss: 1.7084 - val_accuracy: 0.3818\n",
      "Epoch 8/50\n",
      "97/97 [==============================] - 27s 278ms/step - loss: 1.5871 - accuracy: 0.4279 - val_loss: 1.7441 - val_accuracy: 0.3766\n",
      "Epoch 9/50\n",
      "97/97 [==============================] - 25s 259ms/step - loss: 1.4987 - accuracy: 0.4698 - val_loss: 1.6772 - val_accuracy: 0.4117\n",
      "Epoch 10/50\n",
      "97/97 [==============================] - 25s 254ms/step - loss: 1.4327 - accuracy: 0.4925 - val_loss: 1.6842 - val_accuracy: 0.4208\n",
      "Epoch 11/50\n",
      "97/97 [==============================] - 25s 255ms/step - loss: 1.3620 - accuracy: 0.5253 - val_loss: 1.7454 - val_accuracy: 0.3948\n",
      "Epoch 12/50\n",
      "97/97 [==============================] - 25s 257ms/step - loss: 1.2711 - accuracy: 0.5569 - val_loss: 1.6753 - val_accuracy: 0.4610\n",
      "Epoch 13/50\n",
      "97/97 [==============================] - 25s 257ms/step - loss: 1.1914 - accuracy: 0.5770 - val_loss: 1.6735 - val_accuracy: 0.4481\n",
      "Epoch 14/50\n",
      "97/97 [==============================] - 25s 257ms/step - loss: 1.1242 - accuracy: 0.6114 - val_loss: 1.5838 - val_accuracy: 0.4792\n",
      "Epoch 15/50\n",
      "97/97 [==============================] - 25s 255ms/step - loss: 1.0287 - accuracy: 0.6384 - val_loss: 1.6390 - val_accuracy: 0.4792\n",
      "Epoch 16/50\n",
      "97/97 [==============================] - 25s 254ms/step - loss: 0.9438 - accuracy: 0.6738 - val_loss: 1.5368 - val_accuracy: 0.5182\n",
      "Epoch 17/50\n",
      "97/97 [==============================] - 25s 253ms/step - loss: 0.8281 - accuracy: 0.7177 - val_loss: 1.5880 - val_accuracy: 0.5000\n",
      "Epoch 18/50\n",
      "97/97 [==============================] - 24s 251ms/step - loss: 0.7548 - accuracy: 0.7411 - val_loss: 1.6457 - val_accuracy: 0.5260\n",
      "Epoch 19/50\n",
      "97/97 [==============================] - 25s 254ms/step - loss: 0.7130 - accuracy: 0.7508 - val_loss: 1.5767 - val_accuracy: 0.5130\n",
      "Epoch 20/50\n",
      "97/97 [==============================] - 24s 253ms/step - loss: 0.6419 - accuracy: 0.7846 - val_loss: 1.6120 - val_accuracy: 0.5247\n",
      "Epoch 21/50\n",
      "97/97 [==============================] - 25s 254ms/step - loss: 0.5324 - accuracy: 0.8148 - val_loss: 1.9138 - val_accuracy: 0.5000\n",
      "Epoch 22/50\n",
      "97/97 [==============================] - 25s 254ms/step - loss: 0.5033 - accuracy: 0.8307 - val_loss: 1.6980 - val_accuracy: 0.5377\n",
      "Epoch 23/50\n",
      "97/97 [==============================] - 25s 253ms/step - loss: 0.4503 - accuracy: 0.8496 - val_loss: 1.8988 - val_accuracy: 0.5234\n",
      "Epoch 24/50\n",
      "97/97 [==============================] - 25s 254ms/step - loss: 0.3918 - accuracy: 0.8769 - val_loss: 1.7827 - val_accuracy: 0.5234\n",
      "Epoch 25/50\n",
      "97/97 [==============================] - 25s 254ms/step - loss: 0.4101 - accuracy: 0.8603 - val_loss: 1.6926 - val_accuracy: 0.5221\n",
      "Epoch 26/50\n",
      "97/97 [==============================] - 25s 253ms/step - loss: 0.3195 - accuracy: 0.8951 - val_loss: 1.8207 - val_accuracy: 0.5558\n",
      "Epoch 27/50\n",
      "97/97 [==============================] - 24s 253ms/step - loss: 0.2674 - accuracy: 0.9103 - val_loss: 1.8155 - val_accuracy: 0.5364\n",
      "Epoch 28/50\n",
      "97/97 [==============================] - 24s 253ms/step - loss: 0.2536 - accuracy: 0.9159 - val_loss: 2.0588 - val_accuracy: 0.5312\n",
      "Epoch 29/50\n",
      "97/97 [==============================] - 24s 252ms/step - loss: 0.2313 - accuracy: 0.9230 - val_loss: 2.1314 - val_accuracy: 0.5390\n",
      "Epoch 30/50\n",
      "97/97 [==============================] - 26s 271ms/step - loss: 0.2874 - accuracy: 0.9084 - val_loss: 1.9810 - val_accuracy: 0.5532\n",
      "Epoch 31/50\n",
      "97/97 [==============================] - 27s 275ms/step - loss: 0.1957 - accuracy: 0.9353 - val_loss: 2.2429 - val_accuracy: 0.5299\n",
      "Epoch 32/50\n",
      "97/97 [==============================] - 29s 298ms/step - loss: 0.1828 - accuracy: 0.9386 - val_loss: 2.1724 - val_accuracy: 0.5779\n",
      "Epoch 33/50\n",
      "97/97 [==============================] - 28s 290ms/step - loss: 0.1853 - accuracy: 0.9402 - val_loss: 2.1430 - val_accuracy: 0.5312\n",
      "Epoch 34/50\n",
      "97/97 [==============================] - 28s 291ms/step - loss: 0.1293 - accuracy: 0.9565 - val_loss: 2.1678 - val_accuracy: 0.5558\n",
      "Epoch 35/50\n",
      "97/97 [==============================] - 28s 289ms/step - loss: 0.1464 - accuracy: 0.9535 - val_loss: 2.1751 - val_accuracy: 0.5532\n",
      "Epoch 36/50\n",
      "97/97 [==============================] - 50s 522ms/step - loss: 0.1309 - accuracy: 0.9591 - val_loss: 2.2632 - val_accuracy: 0.5675\n",
      "Epoch 37/50\n",
      "97/97 [==============================] - 53s 543ms/step - loss: 0.0976 - accuracy: 0.9672 - val_loss: 2.2425 - val_accuracy: 0.5597\n",
      "Epoch 38/50\n",
      "97/97 [==============================] - 53s 547ms/step - loss: 0.1186 - accuracy: 0.9571 - val_loss: 2.2789 - val_accuracy: 0.5545\n",
      "Epoch 39/50\n",
      "97/97 [==============================] - 51s 525ms/step - loss: 0.1381 - accuracy: 0.9584 - val_loss: 2.3582 - val_accuracy: 0.5364\n",
      "Epoch 40/50\n",
      "97/97 [==============================] - 53s 544ms/step - loss: 0.1724 - accuracy: 0.9412 - val_loss: 2.4302 - val_accuracy: 0.5636\n",
      "Epoch 41/50\n",
      "97/97 [==============================] - 54s 559ms/step - loss: 0.0968 - accuracy: 0.9691 - val_loss: 2.2333 - val_accuracy: 0.5688\n",
      "Epoch 42/50\n",
      "97/97 [==============================] - 18s 183ms/step - loss: 0.1154 - accuracy: 0.9633 - val_loss: 2.1618 - val_accuracy: 0.5805\n",
      "Epoch 43/50\n",
      "97/97 [==============================] - 18s 181ms/step - loss: 0.0848 - accuracy: 0.9734 - val_loss: 2.3473 - val_accuracy: 0.5675\n",
      "Epoch 44/50\n",
      "97/97 [==============================] - 18s 185ms/step - loss: 0.0917 - accuracy: 0.9734 - val_loss: 2.2783 - val_accuracy: 0.5818\n",
      "Epoch 45/50\n",
      "97/97 [==============================] - 17s 175ms/step - loss: 0.0767 - accuracy: 0.9727 - val_loss: 2.3945 - val_accuracy: 0.5688\n",
      "Epoch 46/50\n",
      "97/97 [==============================] - 17s 174ms/step - loss: 0.0934 - accuracy: 0.9727 - val_loss: 2.4198 - val_accuracy: 0.5532\n",
      "Epoch 47/50\n",
      "97/97 [==============================] - 18s 186ms/step - loss: 0.1186 - accuracy: 0.9626 - val_loss: 2.1699 - val_accuracy: 0.5714\n",
      "Epoch 48/50\n",
      "97/97 [==============================] - 18s 187ms/step - loss: 0.1046 - accuracy: 0.9646 - val_loss: 2.3389 - val_accuracy: 0.5714\n",
      "Epoch 49/50\n",
      "97/97 [==============================] - 19s 195ms/step - loss: 0.0507 - accuracy: 0.9844 - val_loss: 2.5353 - val_accuracy: 0.5688\n",
      "Epoch 50/50\n",
      "97/97 [==============================] - 18s 182ms/step - loss: 0.0511 - accuracy: 0.9847 - val_loss: 2.4707 - val_accuracy: 0.5649\n"
     ]
    }
   ],
   "source": [
    "history = model.fit(X_train, y_train, epochs=50, batch_size=32, validation_split=0.2)"
   ]
  },
  {
   "cell_type": "markdown",
   "metadata": {},
   "source": [
    "### Plot loss over epochs"
   ]
  },
  {
   "cell_type": "code",
   "execution_count": 6,
   "metadata": {},
   "outputs": [
    {
     "data": {
      "text/plain": [
       "<matplotlib.legend.Legend at 0x247e0ceb3d0>"
      ]
     },
     "execution_count": 6,
     "metadata": {},
     "output_type": "execute_result"
    },
    {
     "data": {
      "image/png": "[encoded data removed]",
      "text/plain": [
       "<Figure size 1000x800 with 1 Axes>"
      ]
     },
     "metadata": {},
     "output_type": "display_data"
    }
   ],
   "source": [
    "plt.figure(figsize=(10, 8))\n",
    "plt.subplot(2, 1, 1)\n",
    "plt.plot(history.history['loss'], label='Training Loss')\n",
    "plt.plot(history.history['val_loss'], label='Validation Loss')\n",
    "plt.legend(loc='upper right')\n"
   ]
  },
  {
   "cell_type": "markdown",
   "metadata": {},
   "source": [
    "### Plot accuracy over epochs"
   ]
  },
  {
   "cell_type": "code",
   "execution_count": 7,
   "metadata": {},
   "outputs": [
    {
     "data": {
      "text/plain": [
       "<matplotlib.legend.Legend at 0x247d446d3d0>"
      ]
     },
     "execution_count": 7,
     "metadata": {},
     "output_type": "execute_result"
    },
    {
     "data": {
      "image/png": "[encoded data removed]",
      "text/plain": [
       "<Figure size 640x480 with 1 Axes>"
      ]
     },
     "metadata": {},
     "output_type": "display_data"
    }
   ],
   "source": [
    "plt.subplot(2, 1, 2)\n",
    "plt.plot(history.history['accuracy'], label='Training Accuracy')\n",
    "plt.plot(history.history['val_accuracy'], label='Validation Accuracy')\n",
    "plt.legend(loc='lower right')"
   ]
  },
  {
   "cell_type": "markdown",
   "metadata": {},
   "source": [
    "Looking at the plots, we can see that the validation loss starts to increase after around 15 epochs while the training loss continues to decrease. This is a sign of overfitting. The validation accuracy also starts to level off after around 15 epochs. This means we can stop training after 15 epochs to prevent overfitting."
   ]
  },
  {
   "cell_type": "markdown",
   "metadata": {},
   "source": [
    "### Evaluate on test data"
   ]
  },
  {
   "cell_type": "code",
   "execution_count": 8,
   "metadata": {},
   "outputs": [
    {
     "name": "stdout",
     "output_type": "stream",
     "text": [
      "31/31 [==============================] - 1s 44ms/step - loss: 2.4784 - accuracy: 0.5759\n"
     ]
    },
    {
     "data": {
      "text/plain": [
       "[2.478440284729004, 0.5758835673332214]"
      ]
     },
     "execution_count": 8,
     "metadata": {},
     "output_type": "execute_result"
    }
   ],
   "source": [
    "model.evaluate(X_test, y_test)"
   ]
  },
  {
   "cell_type": "markdown",
   "metadata": {},
   "source": [
    "### Confusion matrix"
   ]
  },
  {
   "cell_type": "code",
   "execution_count": 17,
   "metadata": {},
   "outputs": [
    {
     "name": "stdout",
     "output_type": "stream",
     "text": [
      "31/31 [==============================] - 2s 40ms/step\n"
     ]
    },
    {
     "data": {
      "text/plain": [
       "<tf.Tensor: shape=(8, 8), dtype=int32, numpy=\n",
       "array([[78,  5,  4, 10,  4,  3,  5,  5],\n",
       "       [ 4, 68, 12,  6,  3,  5, 14, 11],\n",
       "       [ 5, 18, 71, 11,  2,  2,  2, 15],\n",
       "       [ 9,  6,  7, 73, 12,  2,  0,  7],\n",
       "       [14,  4,  4, 16, 80,  6,  6,  4],\n",
       "       [ 7,  5,  4,  4,  2, 71,  9,  9],\n",
       "       [ 3,  9,  2,  4,  1,  3, 80, 11],\n",
       "       [ 6, 11,  7, 14,  6,  1,  4, 76]])>"
      ]
     },
     "execution_count": 17,
     "metadata": {},
     "output_type": "execute_result"
    }
   ],
   "source": [
    "y_pred = np.argmax(model.predict(X_test), axis=1)\n",
    "y_true = np.argmax(y_test, axis=1)\n",
    "\n",
    "tf.math.confusion_matrix(y_true, y_pred)"
   ]
  }
 ],
 "metadata": {
  "kernelspec": {
   "display_name": "tf-gpu",
   "language": "python",
   "name": "python3"
  },
  "language_info": {
   "codemirror_mode": {
    "name": "ipython",
    "version": 3
   },
   "file_extension": ".py",
   "mimetype": "text/x-python",
   "name": "python",
   "nbconvert_exporter": "python",
   "pygments_lexer": "ipython3",
   "version": "3.9.20"
  }
 },
 "nbformat": 4,
 "nbformat_minor": 2
}
