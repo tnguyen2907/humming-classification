{
 "cells": [
  {
   "cell_type": "code",
   "execution_count": 1,
   "metadata": {},
   "outputs": [],
   "source": [
    "import matplotlib.pyplot as plt\n",
    "import numpy as np\n",
    "from sklearn.model_selection import train_test_split\n",
    "from sklearn.preprocessing import LabelEncoder\n",
    "import tensorflow as tf\n",
    "from tensorflow.keras.utils import to_categorical\n",
    "from tensorflow.keras.models import Sequential\n",
    "from tensorflow.keras.layers import Dense, Dropout, Flatten, Conv2D, MaxPooling2D, BatchNormalization, Activation, InputLayer, GlobalAveragePooling2D"
   ]
  },
  {
   "cell_type": "code",
   "execution_count": 2,
   "metadata": {},
   "outputs": [],
   "source": [
    "songs = ['Frozen', 'Hakuna', 'Potter', 'Mamma', 'Panther', 'Rain', 'Showman', 'StarWars']"
   ]
  },
  {
   "cell_type": "markdown",
   "metadata": {},
   "source": [
    "### Load and prepare the data for training"
   ]
  },
  {
   "cell_type": "code",
   "execution_count": 3,
   "metadata": {},
   "outputs": [
    {
     "name": "stdout",
     "output_type": "stream",
     "text": [
      "(3848, 128, 603, 1)\n",
      "(3848, 8)\n"
     ]
    }
   ],
   "source": [
    "def load_data():\n",
    "    X = np.load('mfcc_data.npy')\n",
    "    y = np.load('labels.npy')\n",
    "\n",
    "    return X, y\n",
    "\n",
    "X, y = load_data() \n",
    "\n",
    "X = X.reshape(-1, X.shape[1], X.shape[2], 1)\n",
    "\n",
    "y_encoded = LabelEncoder().fit_transform(y)\n",
    "y_onehot = to_categorical(y_encoded)\n",
    "\n",
    "X_train, X_test, y_train, y_test = train_test_split(X, y_onehot, test_size=0.2, random_state=69)\n",
    "\n",
    "print(X_train.shape)\n",
    "print(y_train.shape)"
   ]
  },
  {
   "cell_type": "markdown",
   "metadata": {},
   "source": [
    "### Model: AlexNet with added Batch Normalization"
   ]
  },
  {
   "cell_type": "code",
   "execution_count": 4,
   "metadata": {},
   "outputs": [
    {
     "name": "stdout",
     "output_type": "stream",
     "text": [
      "Model: \"sequential\"\n",
      "_________________________________________________________________\n",
      " Layer (type)                Output Shape              Param #   \n",
      "=================================================================\n",
      " conv2d (Conv2D)             (None, 30, 149, 96)       11712     \n",
      "                                                                 \n",
      " batch_normalization (BatchN  (None, 30, 149, 96)      384       \n",
      " ormalization)                                                   \n",
      "                                                                 \n",
      " activation (Activation)     (None, 30, 149, 96)       0         \n",
      "                                                                 \n",
      " max_pooling2d (MaxPooling2D  (None, 14, 74, 96)       0         \n",
      " )                                                               \n",
      "                                                                 \n",
      " conv2d_1 (Conv2D)           (None, 14, 74, 256)       614656    \n",
      "                                                                 \n",
      " batch_normalization_1 (Batc  (None, 14, 74, 256)      1024      \n",
      " hNormalization)                                                 \n",
      "                                                                 \n",
      " activation_1 (Activation)   (None, 14, 74, 256)       0         \n",
      "                                                                 \n",
      " max_pooling2d_1 (MaxPooling  (None, 6, 36, 256)       0         \n",
      " 2D)                                                             \n",
      "                                                                 \n",
      " conv2d_2 (Conv2D)           (None, 6, 36, 384)        885120    \n",
      "                                                                 \n",
      " batch_normalization_2 (Batc  (None, 6, 36, 384)       1536      \n",
      " hNormalization)                                                 \n",
      "                                                                 \n",
      " activation_2 (Activation)   (None, 6, 36, 384)        0         \n",
      "                                                                 \n",
      " conv2d_3 (Conv2D)           (None, 6, 36, 384)        1327488   \n",
      "                                                                 \n",
      " batch_normalization_3 (Batc  (None, 6, 36, 384)       1536      \n",
      " hNormalization)                                                 \n",
      "                                                                 \n",
      " activation_3 (Activation)   (None, 6, 36, 384)        0         \n",
      "                                                                 \n",
      " conv2d_4 (Conv2D)           (None, 6, 36, 256)        884992    \n",
      "                                                                 \n",
      " batch_normalization_4 (Batc  (None, 6, 36, 256)       1024      \n",
      " hNormalization)                                                 \n",
      "                                                                 \n",
      " activation_4 (Activation)   (None, 6, 36, 256)        0         \n",
      "                                                                 \n",
      " max_pooling2d_2 (MaxPooling  (None, 2, 17, 256)       0         \n",
      " 2D)                                                             \n",
      "                                                                 \n",
      " flatten (Flatten)           (None, 8704)              0         \n",
      "                                                                 \n",
      " dense (Dense)               (None, 4096)              35655680  \n",
      "                                                                 \n",
      " batch_normalization_5 (Batc  (None, 4096)             16384     \n",
      " hNormalization)                                                 \n",
      "                                                                 \n",
      " activation_5 (Activation)   (None, 4096)              0         \n",
      "                                                                 \n",
      " dropout (Dropout)           (None, 4096)              0         \n",
      "                                                                 \n",
      " dense_1 (Dense)             (None, 4096)              16781312  \n",
      "                                                                 \n",
      " batch_normalization_6 (Batc  (None, 4096)             16384     \n",
      " hNormalization)                                                 \n",
      "                                                                 \n",
      " activation_6 (Activation)   (None, 4096)              0         \n",
      "                                                                 \n",
      " dropout_1 (Dropout)         (None, 4096)              0         \n",
      "                                                                 \n",
      " dense_2 (Dense)             (None, 8)                 32776     \n",
      "                                                                 \n",
      "=================================================================\n",
      "Total params: 56,232,008\n",
      "Trainable params: 56,212,872\n",
      "Non-trainable params: 19,136\n",
      "_________________________________________________________________\n"
     ]
    }
   ],
   "source": [
    "model = Sequential([\n",
    "    InputLayer(input_shape=(X.shape[1], X.shape[2], 1)),\n",
    "\n",
    "    Conv2D(filters=96, kernel_size=(11, 11), strides=(4, 4), activation=None),\n",
    "    BatchNormalization(),\n",
    "    Activation('relu'),\n",
    "    MaxPooling2D(pool_size=(3, 3), strides=(2, 2)),\n",
    "\n",
    "    Conv2D(filters=256, kernel_size=(5, 5), strides=(1, 1), padding='same', activation=None),\n",
    "    BatchNormalization(),\n",
    "    Activation('relu'),\n",
    "    MaxPooling2D(pool_size=(3, 3), strides=(2, 2)),\n",
    "\n",
    "    Conv2D(filters=384, kernel_size=(3, 3), strides=(1, 1), padding='same', activation=None),\n",
    "    BatchNormalization(),\n",
    "    Activation('relu'),\n",
    "\n",
    "    Conv2D(filters=384, kernel_size=(3, 3), strides=(1, 1), padding='same', activation=None),\n",
    "    BatchNormalization(),\n",
    "    Activation('relu'),\n",
    "\n",
    "    Conv2D(filters=256, kernel_size=(3, 3), strides=(1, 1), padding='same', activation=None),\n",
    "    BatchNormalization(),\n",
    "    Activation('relu'),\n",
    "    MaxPooling2D(pool_size=(3, 3), strides=(2, 2)),\n",
    "\n",
    "    Flatten(),\n",
    "    Dense(4096, activation=None),\n",
    "    BatchNormalization(),\n",
    "    Activation('relu'),\n",
    "    Dropout(0.5),\n",
    "    \n",
    "    Dense(4096, activation=None),\n",
    "    BatchNormalization(),\n",
    "    Activation('relu'),\n",
    "    Dropout(0.5),\n",
    "    \n",
    "    # Output Layer\n",
    "    Dense(len(songs), activation='softmax')\n",
    "])\n",
    "model.compile(optimizer='adam', loss='categorical_crossentropy', metrics=['accuracy'])\n",
    "model.summary()"
   ]
  },
  {
   "cell_type": "markdown",
   "metadata": {},
   "source": [
    "### Training"
   ]
  },
  {
   "cell_type": "code",
   "execution_count": 5,
   "metadata": {},
   "outputs": [
    {
     "name": "stdout",
     "output_type": "stream",
     "text": [
      "Epoch 1/50\n",
      "97/97 [==============================] - 12s 75ms/step - loss: 2.3297 - accuracy: 0.3879 - val_loss: 22.5208 - val_accuracy: 0.1896\n",
      "Epoch 2/50\n",
      "97/97 [==============================] - 7s 68ms/step - loss: 1.5195 - accuracy: 0.5851 - val_loss: 1.5111 - val_accuracy: 0.5688\n",
      "Epoch 3/50\n",
      "97/97 [==============================] - 7s 68ms/step - loss: 1.1435 - accuracy: 0.7040 - val_loss: 2.2294 - val_accuracy: 0.5026\n",
      "Epoch 4/50\n",
      "97/97 [==============================] - 7s 69ms/step - loss: 0.8288 - accuracy: 0.7706 - val_loss: 1.1817 - val_accuracy: 0.7299\n",
      "Epoch 5/50\n",
      "97/97 [==============================] - 7s 69ms/step - loss: 0.7285 - accuracy: 0.7992 - val_loss: 2.4339 - val_accuracy: 0.5831\n",
      "Epoch 6/50\n",
      "97/97 [==============================] - 7s 69ms/step - loss: 0.4993 - accuracy: 0.8528 - val_loss: 2.4731 - val_accuracy: 0.5896\n",
      "Epoch 7/50\n",
      "97/97 [==============================] - 7s 69ms/step - loss: 0.4159 - accuracy: 0.8678 - val_loss: 1.1170 - val_accuracy: 0.7740\n",
      "Epoch 8/50\n",
      "97/97 [==============================] - 7s 68ms/step - loss: 0.2646 - accuracy: 0.9162 - val_loss: 0.6380 - val_accuracy: 0.8636\n",
      "Epoch 9/50\n",
      "97/97 [==============================] - 7s 69ms/step - loss: 0.2364 - accuracy: 0.9230 - val_loss: 0.7258 - val_accuracy: 0.8494\n",
      "Epoch 10/50\n",
      "97/97 [==============================] - 7s 69ms/step - loss: 0.1785 - accuracy: 0.9441 - val_loss: 0.7912 - val_accuracy: 0.8494\n",
      "Epoch 11/50\n",
      "97/97 [==============================] - 7s 68ms/step - loss: 0.1585 - accuracy: 0.9493 - val_loss: 0.5138 - val_accuracy: 0.8987\n",
      "Epoch 12/50\n",
      "97/97 [==============================] - 7s 68ms/step - loss: 0.1611 - accuracy: 0.9477 - val_loss: 0.6228 - val_accuracy: 0.8779\n",
      "Epoch 13/50\n",
      "97/97 [==============================] - 6s 65ms/step - loss: 0.1342 - accuracy: 0.9578 - val_loss: 0.5290 - val_accuracy: 0.8974\n",
      "Epoch 14/50\n",
      "97/97 [==============================] - 7s 66ms/step - loss: 0.1144 - accuracy: 0.9594 - val_loss: 0.6220 - val_accuracy: 0.8857\n",
      "Epoch 15/50\n",
      "97/97 [==============================] - 6s 67ms/step - loss: 0.1891 - accuracy: 0.9399 - val_loss: 0.8413 - val_accuracy: 0.8649\n",
      "Epoch 16/50\n",
      "97/97 [==============================] - 6s 65ms/step - loss: 0.0967 - accuracy: 0.9685 - val_loss: 0.4986 - val_accuracy: 0.9169\n",
      "Epoch 17/50\n",
      "97/97 [==============================] - 6s 67ms/step - loss: 0.0709 - accuracy: 0.9776 - val_loss: 0.5228 - val_accuracy: 0.8844\n",
      "Epoch 18/50\n",
      "97/97 [==============================] - 7s 67ms/step - loss: 0.0986 - accuracy: 0.9649 - val_loss: 0.8630 - val_accuracy: 0.8026\n",
      "Epoch 19/50\n",
      "97/97 [==============================] - 6s 66ms/step - loss: 0.0924 - accuracy: 0.9675 - val_loss: 0.6522 - val_accuracy: 0.8909\n",
      "Epoch 20/50\n",
      "97/97 [==============================] - 7s 69ms/step - loss: 0.0667 - accuracy: 0.9753 - val_loss: 0.5165 - val_accuracy: 0.9039\n",
      "Epoch 21/50\n",
      "97/97 [==============================] - 13s 135ms/step - loss: 0.0718 - accuracy: 0.9760 - val_loss: 0.5674 - val_accuracy: 0.9143\n",
      "Epoch 22/50\n",
      "97/97 [==============================] - 12s 124ms/step - loss: 0.0781 - accuracy: 0.9776 - val_loss: 0.5495 - val_accuracy: 0.8948\n",
      "Epoch 23/50\n",
      "97/97 [==============================] - 9s 90ms/step - loss: 0.0488 - accuracy: 0.9838 - val_loss: 0.6979 - val_accuracy: 0.8870\n",
      "Epoch 24/50\n",
      "97/97 [==============================] - 9s 93ms/step - loss: 0.0812 - accuracy: 0.9747 - val_loss: 0.9964 - val_accuracy: 0.8273\n",
      "Epoch 25/50\n",
      "97/97 [==============================] - 9s 97ms/step - loss: 0.0981 - accuracy: 0.9704 - val_loss: 0.6409 - val_accuracy: 0.8896\n",
      "Epoch 26/50\n",
      "97/97 [==============================] - 9s 95ms/step - loss: 0.1669 - accuracy: 0.9561 - val_loss: 0.7353 - val_accuracy: 0.8792\n",
      "Epoch 27/50\n",
      "97/97 [==============================] - 9s 95ms/step - loss: 0.1280 - accuracy: 0.9643 - val_loss: 0.7881 - val_accuracy: 0.8623\n",
      "Epoch 28/50\n",
      "97/97 [==============================] - 9s 95ms/step - loss: 0.0750 - accuracy: 0.9760 - val_loss: 0.4294 - val_accuracy: 0.9299\n",
      "Epoch 29/50\n",
      "97/97 [==============================] - 9s 93ms/step - loss: 0.0533 - accuracy: 0.9847 - val_loss: 0.5818 - val_accuracy: 0.8948\n",
      "Epoch 30/50\n",
      "97/97 [==============================] - 9s 95ms/step - loss: 0.0549 - accuracy: 0.9838 - val_loss: 0.5548 - val_accuracy: 0.9156\n",
      "Epoch 31/50\n",
      "97/97 [==============================] - 10s 100ms/step - loss: 0.0383 - accuracy: 0.9906 - val_loss: 0.3913 - val_accuracy: 0.9286\n",
      "Epoch 32/50\n",
      "97/97 [==============================] - 9s 92ms/step - loss: 0.1272 - accuracy: 0.9659 - val_loss: 0.6923 - val_accuracy: 0.8857\n",
      "Epoch 33/50\n",
      "97/97 [==============================] - 10s 100ms/step - loss: 0.1120 - accuracy: 0.9711 - val_loss: 0.7706 - val_accuracy: 0.8909\n",
      "Epoch 34/50\n",
      "97/97 [==============================] - 10s 101ms/step - loss: 0.0648 - accuracy: 0.9792 - val_loss: 0.7258 - val_accuracy: 0.8844\n",
      "Epoch 35/50\n",
      "97/97 [==============================] - 10s 101ms/step - loss: 0.0809 - accuracy: 0.9763 - val_loss: 0.5160 - val_accuracy: 0.9208\n",
      "Epoch 36/50\n",
      "97/97 [==============================] - 10s 99ms/step - loss: 0.0561 - accuracy: 0.9838 - val_loss: 0.5903 - val_accuracy: 0.9078\n",
      "Epoch 37/50\n",
      "97/97 [==============================] - 10s 100ms/step - loss: 0.0619 - accuracy: 0.9828 - val_loss: 0.9651 - val_accuracy: 0.8338\n",
      "Epoch 38/50\n",
      "97/97 [==============================] - 10s 101ms/step - loss: 0.0820 - accuracy: 0.9808 - val_loss: 0.7898 - val_accuracy: 0.8662\n",
      "Epoch 39/50\n",
      "97/97 [==============================] - 10s 102ms/step - loss: 0.0549 - accuracy: 0.9831 - val_loss: 0.7778 - val_accuracy: 0.8883\n",
      "Epoch 40/50\n",
      "97/97 [==============================] - 10s 100ms/step - loss: 0.0411 - accuracy: 0.9860 - val_loss: 0.4993 - val_accuracy: 0.9221\n",
      "Epoch 41/50\n",
      "97/97 [==============================] - 10s 102ms/step - loss: 0.0521 - accuracy: 0.9838 - val_loss: 0.5217 - val_accuracy: 0.9195\n",
      "Epoch 42/50\n",
      "97/97 [==============================] - 10s 100ms/step - loss: 0.0494 - accuracy: 0.9867 - val_loss: 0.6329 - val_accuracy: 0.9078\n",
      "Epoch 43/50\n",
      "97/97 [==============================] - 10s 101ms/step - loss: 0.0463 - accuracy: 0.9857 - val_loss: 0.7438 - val_accuracy: 0.9091\n",
      "Epoch 44/50\n",
      "97/97 [==============================] - 10s 101ms/step - loss: 0.0793 - accuracy: 0.9782 - val_loss: 0.8651 - val_accuracy: 0.8597\n",
      "Epoch 45/50\n",
      "97/97 [==============================] - 11s 109ms/step - loss: 0.1144 - accuracy: 0.9737 - val_loss: 1.3292 - val_accuracy: 0.8312\n",
      "Epoch 46/50\n",
      "97/97 [==============================] - 10s 101ms/step - loss: 0.0769 - accuracy: 0.9799 - val_loss: 1.1496 - val_accuracy: 0.8494\n",
      "Epoch 47/50\n",
      "97/97 [==============================] - 10s 103ms/step - loss: 0.0746 - accuracy: 0.9799 - val_loss: 0.5575 - val_accuracy: 0.9195\n",
      "Epoch 48/50\n",
      "97/97 [==============================] - 10s 103ms/step - loss: 0.1309 - accuracy: 0.9695 - val_loss: 0.7360 - val_accuracy: 0.8818\n",
      "Epoch 49/50\n",
      "97/97 [==============================] - 10s 99ms/step - loss: 0.0459 - accuracy: 0.9864 - val_loss: 0.4910 - val_accuracy: 0.9221\n",
      "Epoch 50/50\n",
      "97/97 [==============================] - 10s 100ms/step - loss: 0.0498 - accuracy: 0.9841 - val_loss: 0.5109 - val_accuracy: 0.9143\n"
     ]
    }
   ],
   "source": [
    "history = model.fit(X_train, y_train, epochs=50, batch_size=32, validation_split=0.2)"
   ]
  },
  {
   "cell_type": "markdown",
   "metadata": {},
   "source": [
    "### Plot loss over epochs"
   ]
  },
  {
   "cell_type": "code",
   "execution_count": 6,
   "metadata": {},
   "outputs": [
    {
     "data": {
      "text/plain": [
       "<matplotlib.legend.Legend at 0x232352d7820>"
      ]
     },
     "execution_count": 6,
     "metadata": {},
     "output_type": "execute_result"
    },
    {
     "data": {
      "image/png": "[encoded data removed]",
      "text/plain": [
       "<Figure size 1000x800 with 1 Axes>"
      ]
     },
     "metadata": {},
     "output_type": "display_data"
    }
   ],
   "source": [
    "plt.figure(figsize=(10, 8))\n",
    "plt.subplot(2, 1, 1)\n",
    "plt.plot(history.history['loss'], label='Training Loss')\n",
    "plt.plot(history.history['val_loss'], label='Validation Loss')\n",
    "plt.legend(loc='upper right')\n"
   ]
  },
  {
   "cell_type": "markdown",
   "metadata": {},
   "source": [
    "### Plot accuracy over epochs"
   ]
  },
  {
   "cell_type": "code",
   "execution_count": 7,
   "metadata": {},
   "outputs": [
    {
     "data": {
      "text/plain": [
       "<matplotlib.legend.Legend at 0x23244a94af0>"
      ]
     },
     "execution_count": 7,
     "metadata": {},
     "output_type": "execute_result"
    },
    {
     "data": {
      "image/png": "[encoded data removed]",
      "text/plain": [
       "<Figure size 640x480 with 1 Axes>"
      ]
     },
     "metadata": {},
     "output_type": "display_data"
    }
   ],
   "source": [
    "plt.subplot(2, 1, 2)\n",
    "plt.plot(history.history['accuracy'], label='Training Accuracy')\n",
    "plt.plot(history.history['val_accuracy'], label='Validation Accuracy')\n",
    "plt.legend(loc='lower right')"
   ]
  },
  {
   "cell_type": "markdown",
   "metadata": {},
   "source": [
    "Looking at the plots, from after 10-20 epochs, the model loss and accuracy seem to have stabilized, which means we can stop training at that point."
   ]
  },
  {
   "cell_type": "markdown",
   "metadata": {},
   "source": [
    "### Evaluate on test data"
   ]
  },
  {
   "cell_type": "code",
   "execution_count": 8,
   "metadata": {},
   "outputs": [
    {
     "name": "stdout",
     "output_type": "stream",
     "text": [
      "31/31 [==============================] - 1s 30ms/step - loss: 0.3482 - accuracy: 0.9387\n"
     ]
    },
    {
     "data": {
      "text/plain": [
       "[0.34823209047317505, 0.9386694431304932]"
      ]
     },
     "execution_count": 8,
     "metadata": {},
     "output_type": "execute_result"
    }
   ],
   "source": [
    "model.evaluate(X_test, y_test)"
   ]
  },
  {
   "cell_type": "markdown",
   "metadata": {},
   "source": [
    "### Confusion matrix"
   ]
  },
  {
   "cell_type": "code",
   "execution_count": 9,
   "metadata": {},
   "outputs": [
    {
     "name": "stdout",
     "output_type": "stream",
     "text": [
      "31/31 [==============================] - 1s 30ms/step\n"
     ]
    },
    {
     "data": {
      "text/plain": [
       "<tf.Tensor: shape=(8, 8), dtype=int32, numpy=\n",
       "array([[104,   3,   2,   0,   1,   2,   2,   0],\n",
       "       [  0, 117,   0,   0,   1,   1,   3,   1],\n",
       "       [  1,   2, 120,   0,   0,   0,   2,   1],\n",
       "       [  1,   0,   0, 110,   1,   4,   0,   0],\n",
       "       [  0,   0,   1,   0, 129,   3,   0,   1],\n",
       "       [  1,   2,   0,   3,   0, 103,   2,   0],\n",
       "       [  0,   3,   0,   0,   1,   3, 106,   0],\n",
       "       [  0,   4,   0,   2,   1,   2,   2, 114]])>"
      ]
     },
     "execution_count": 9,
     "metadata": {},
     "output_type": "execute_result"
    }
   ],
   "source": [
    "y_pred = np.argmax(model.predict(X_test), axis=1)\n",
    "y_true = np.argmax(y_test, axis=1)\n",
    "\n",
    "tf.math.confusion_matrix(y_true, y_pred)"
   ]
  }
 ],
 "metadata": {
  "kernelspec": {
   "display_name": "tf-gpu",
   "language": "python",
   "name": "python3"
  },
  "language_info": {
   "codemirror_mode": {
    "name": "ipython",
    "version": 3
   },
   "file_extension": ".py",
   "mimetype": "text/x-python",
   "name": "python",
   "nbconvert_exporter": "python",
   "pygments_lexer": "ipython3",
   "version": "3.9.20"
  }
 },
 "nbformat": 4,
 "nbformat_minor": 2
}
